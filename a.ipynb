{
    "metadata": {
        "kernelspec": {
            "name": "python3",
            "display_name": "Python 3.11",
            "language": "python"
        },
        "language_info": {
            "name": "python",
            "version": "3.11.9",
            "mimetype": "text/x-python",
            "codemirror_mode": {
                "name": "ipython",
                "version": 3
            },
            "pygments_lexer": "ipython3",
            "nbconvert_exporter": "python",
            "file_extension": ".py"
        }
    },
    "nbformat_minor": 4,
    "nbformat": 4,
    "cells": [
        {
            "cell_type": "code",
            "source": "Ngu co dao tao",
            "metadata": {
                "id": "208512c7-6dca-4fdf-8c10-d30664361487"
            },
            "outputs": [
                {
                    "traceback": [
                        "\u001b[0;36m  Cell \u001b[0;32mIn[1], line 1\u001b[0;36m\u001b[0m\n\u001b[0;31m    Ngu co dao tao\u001b[0m\n\u001b[0m        ^\u001b[0m\n\u001b[0;31mSyntaxError\u001b[0m\u001b[0;31m:\u001b[0m invalid syntax\n"
                    ],
                    "ename": "SyntaxError",
                    "evalue": "invalid syntax (2912488545.py, line 1)",
                    "output_type": "error"
                }
            ],
            "execution_count": 1
        }
    ]
}